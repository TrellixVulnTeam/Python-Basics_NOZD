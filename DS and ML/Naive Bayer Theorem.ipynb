{
 "cells": [
  {
   "cell_type": "code",
   "execution_count": null,
   "metadata": {},
   "outputs": [],
   "source": [
    "P(A/B)=P(B/A).P(A)/P(B) #formula of naive bayer \n",
    "P(A/B)=Posterior(prob(A) when B is true)\n",
    "P(B/A)=prob. of B when A is true (likelihood)\n",
    "P(B/A).P(A)=preposition\n",
    "P(B)=evidence"
   ]
  },
  {
   "cell_type": "code",
   "execution_count": 1,
   "metadata": {},
   "outputs": [
    {
     "name": "stdout",
     "output_type": "stream",
     "text": [
      "[0 0 0 0 0 0 0 0 0 0 0 0 0 0 0 0 0 0 0 0 0 0 0 0 0 0 0 0 0 0 0 0 0 0 0 0 0\n",
      " 0 0 0 0 0 0 0 0 0 0 0 0 0 1 1 1 1 1 1 1 1 1 1 1 1 1 1 1 1 1 1 1 1 1 1 1 1\n",
      " 1 1 1 1 1 1 1 1 1 1 1 1 1 1 1 1 1 1 1 1 1 1 1 1 1 1 2 2 2 2 2 2 2 2 2 2 2\n",
      " 2 2 2 2 2 2 2 2 2 2 2 2 2 2 2 2 2 2 2 2 2 2 2 2 2 2 2 2 2 2 2 2 2 2 2 2 2\n",
      " 2 2]\n"
     ]
    }
   ],
   "source": [
    "#load the iris dataset\n",
    "from sklearn.datasets import load_iris\n",
    "iris=load_iris()\n",
    "#store the feature matrix(X) and response vector(y)\n",
    "X=iris.data\n",
    "y=iris.target\n",
    "print(y)\n"
   ]
  },
  {
   "cell_type": "code",
   "execution_count": 3,
   "metadata": {},
   "outputs": [
    {
     "name": "stdout",
     "output_type": "stream",
     "text": [
      "[0 1 1 0 2 1 2 0 0 2 1 0 2 1 1 0 1 1 0 0 1 1 2 0 2 1 0 0 1 2]\n",
      "Test [0]\n",
      "Gaussian Naive Bayes model acciuracy (in %):  0.9666666666666667\n"
     ]
    }
   ],
   "source": [
    "#splitting X and y into tarining and testing sets\n",
    "from sklearn.model_selection import train_test_split\n",
    "X_train,X_test,y_train,y_test=train_test_split(X,y,test_size=0.2,random_state=1)\n",
    "#training the model on training set\n",
    "from sklearn.naive_bayes import GaussianNB\n",
    "gnb=GaussianNB()\n",
    "gnb.fit(X_train,y_train)\n",
    "import pandas as pd\n",
    "test=[[4.6,3.4,1.4,0.3]]\n",
    "testdata=pd.DataFrame(test)\n",
    "#making predictions on the testing set\n",
    "y_pred=gnb.predict(X_test)\n",
    "print(y_pred)\n",
    "myp=gnb.predict(testdata)\n",
    "print('Test',myp)\n",
    "#comparing actual response values(y_test) with predicted \n",
    "#values(y_pred)\n",
    "from sklearn import metrics \n",
    "print(\"Gaussian Naive Bayes model acciuracy (in %): \",metrics.accuracy_score(y_test,y_pred))\n"
   ]
  },
  {
   "cell_type": "code",
   "execution_count": null,
   "metadata": {},
   "outputs": [],
   "source": []
  }
 ],
 "metadata": {
  "kernelspec": {
   "display_name": "Python 3",
   "language": "python",
   "name": "python3"
  },
  "language_info": {
   "codemirror_mode": {
    "name": "ipython",
    "version": 3
   },
   "file_extension": ".py",
   "mimetype": "text/x-python",
   "name": "python",
   "nbconvert_exporter": "python",
   "pygments_lexer": "ipython3",
   "version": "3.6.5"
  }
 },
 "nbformat": 4,
 "nbformat_minor": 2
}
