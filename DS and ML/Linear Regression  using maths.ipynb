{
 "cells": [
  {
   "cell_type": "code",
   "execution_count": 1,
   "metadata": {},
   "outputs": [
    {
     "name": "stdout",
     "output_type": "stream",
     "text": [
      "[1, 2, 4, 3, 5]\n",
      "[1, 3, 3, 2, 5]\n",
      "x stats: mean=3.000 variance =2.000\n",
      "y_stats: mean=2.800 variance=1.760\n"
     ]
    }
   ],
   "source": [
    "#calculate the mean value of a list of number\n",
    "def mean(values):\n",
    "    return sum(values)/(len(values))\n",
    "#calculate the variance of a list of number \n",
    "def variance(values,mean):\n",
    "    return sum([(x-mean)**2 for x in values ])/len(values)\n",
    "#calculating mean and variance\n",
    "dataset=[[1,1],[2,3],[4,3],[3,2],[5,5]]\n",
    "x=[row[0] for row in dataset]\n",
    "print(x)\n",
    "y=[row[1] for row in dataset]\n",
    "print(y)\n",
    "mean_x,mean_y=mean(x),mean(y)\n",
    "var_x,var_y=variance(x,mean_x),variance(y,mean_y)\n",
    "print('x stats: mean=%.3f variance =%.3f' %(mean_x,var_x))\n",
    "print('y_stats: mean=%.3f variance=%.3f' %(mean_y,var_y))"
   ]
  },
  {
   "cell_type": "code",
   "execution_count": 2,
   "metadata": {},
   "outputs": [],
   "source": [
    "#calcuate covarince \n",
    "#covariance =sum((x(i)-mean(x))*(y(i)-mean(y)))/len(value)\n",
    "def covariance(x,mean_x,y,mean_y):\n",
    "    covar=0.0\n",
    "    for i in range(len(x)):\n",
    "        covar+=(x[i]-mean_x)*(y[i]-mean_y)\n",
    "    return covar/len(x)    \n"
   ]
  },
  {
   "cell_type": "code",
   "execution_count": 4,
   "metadata": {},
   "outputs": [
    {
     "name": "stdout",
     "output_type": "stream",
     "text": [
      "covariance:1.60\n"
     ]
    }
   ],
   "source": [
    "dataset=[[1,1],[2,3],[4,3],[3,2],[5,5]]\n",
    "x=[row[0] for row in dataset]\n",
    "y=[row[1] for row in dataset]\n",
    "mean_x,mean_y=mean(x),mean(y)\n",
    "covar=covariance(x,mean_x,y,mean_y)\n",
    "print('covariance:%.2f' %(covar))"
   ]
  },
  {
   "cell_type": "code",
   "execution_count": 10,
   "metadata": {},
   "outputs": [],
   "source": [
    "#calculate coefficient\n",
    "#B1=sum((x(i)-mean(x))*(y(i)-mean(y)))/sum((x(i)-mean(x))^2)\n",
    "def coefficients(dataset):\n",
    "    x=[row[0] for row in dataset]\n",
    "    y=[row[1] for row in dataset]\n",
    "    x_mean,y_mean=mean(x),mean(y)\n",
    "    b1=covariance(x,x_mean,y,y_mean)/variance(x,x_mean)\n",
    "    b0=y_mean-b1*x_mean\n",
    "    return [b0,b1]"
   ]
  },
  {
   "cell_type": "code",
   "execution_count": 11,
   "metadata": {},
   "outputs": [
    {
     "name": "stdout",
     "output_type": "stream",
     "text": [
      "coefficient: B0=0.400, B1=0.800\n"
     ]
    }
   ],
   "source": [
    "#calculate coefficients\n",
    "dataset=[[1,1],[2,3],[4,3],[3,2],[5,5]]\n",
    "b0,b1=coefficients(dataset)\n",
    "print('coefficient: B0=%.3f, B1=%.3f' %(b0,b1))"
   ]
  },
  {
   "cell_type": "code",
   "execution_count": 13,
   "metadata": {},
   "outputs": [],
   "source": [
    "# make prediction\n",
    "# y=b0+b1*x\n",
    "\n",
    "def simple_linear_regression(train,test):\n",
    "    predictions=list()\n",
    "    b0,b1=coefficients(train)\n",
    "    for row in test:\n",
    "        chat=b0+b1*row[0]\n",
    "        predictions.append(chat)\n",
    "    return predictions    "
   ]
  },
  {
   "cell_type": "code",
   "execution_count": 15,
   "metadata": {},
   "outputs": [
    {
     "name": "stdout",
     "output_type": "stream",
     "text": [
      "[1.9999999999999996, 3.5999999999999996]\n"
     ]
    }
   ],
   "source": [
    "print(simple_linear_regression(dataset,[[2,3],[4,5]]))"
   ]
  },
  {
   "cell_type": "code",
   "execution_count": null,
   "metadata": {},
   "outputs": [],
   "source": []
  }
 ],
 "metadata": {
  "kernelspec": {
   "display_name": "Python 3",
   "language": "python",
   "name": "python3"
  },
  "language_info": {
   "codemirror_mode": {
    "name": "ipython",
    "version": 3
   },
   "file_extension": ".py",
   "mimetype": "text/x-python",
   "name": "python",
   "nbconvert_exporter": "python",
   "pygments_lexer": "ipython3",
   "version": "3.6.5"
  }
 },
 "nbformat": 4,
 "nbformat_minor": 2
}
