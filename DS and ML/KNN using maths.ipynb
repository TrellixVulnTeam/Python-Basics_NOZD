{
 "cells": [
  {
   "cell_type": "code",
   "execution_count": 5,
   "metadata": {},
   "outputs": [
    {
     "name": "stdout",
     "output_type": "stream",
     "text": [
      "(150, 5)\n"
     ]
    }
   ],
   "source": [
    "import pandas as pd\n",
    "import numpy as np\n",
    "import math\n",
    "import operator\n",
    "names=['sepal_length','sepal_width','petal_length','petal_width','species']\n",
    "data=pd.read_csv(\"iris.csv\",names=names)\n",
    "print(data.shape)"
   ]
  },
  {
   "cell_type": "code",
   "execution_count": 10,
   "metadata": {},
   "outputs": [],
   "source": [
    "def ed(data1,data2,length):\n",
    "    distance=0\n",
    "    for x in range(length):\n",
    "        distance+=np.square(data1[x]-data2[x])\n",
    "    return np.sqrt(distance)    \n",
    "\n",
    "#defining our knn model\n",
    "def knn(trainset,testset,k):\n",
    "    distances={}\n",
    "    sort={}\n",
    "    length=testset.shape[1]\n",
    "    for x in range(len(trainset)):\n",
    "        dist=ed(testset,trainset.iloc[x],length)\n",
    "        distances[x]=dist[0]\n",
    "    sorted_d=sorted(distances.items(),key=operator.itemgetter(1))\n",
    "    neighbors=[]\n",
    "    #extracting top k neighbors\n",
    "    for x in range(k):\n",
    "        neighbors.append(sorted_d[x][0])\n",
    "    #end of step 3\n",
    "    classVotes={}\n",
    "    #calculating the most freq class in the neighbors\n",
    "    for x in range(len(neighbors)):\n",
    "        response=trainset.iloc[neighbors[x]][-1]\n",
    "        if response in classVotes:\n",
    "            classVotes[response]+=1\n",
    "        else:\n",
    "            classVotes[response]=1\n",
    "    sortedVotes=sorted(classVotes.items(),key=operator.itemgetter(1),reverse=True)\n",
    "    return(sortedVotes[0][0],neighbors)"
   ]
  },
  {
   "cell_type": "code",
   "execution_count": 11,
   "metadata": {},
   "outputs": [
    {
     "name": "stdout",
     "output_type": "stream",
     "text": [
      "Iris-setosa\n",
      "[19, 21, 46, 48, 4]\n"
     ]
    }
   ],
   "source": [
    "#creating a dummy dataset\n",
    "testset=[[5.1,3.8,1.5,0.3]]\n",
    "test=pd.DataFrame(testset)\n",
    "k=5\n",
    "result,neigh=knn(data,test,k)\n",
    "print(result)\n",
    "print(neigh)"
   ]
  },
  {
   "cell_type": "code",
   "execution_count": null,
   "metadata": {},
   "outputs": [],
   "source": []
  }
 ],
 "metadata": {
  "kernelspec": {
   "display_name": "Python 3",
   "language": "python",
   "name": "python3"
  },
  "language_info": {
   "codemirror_mode": {
    "name": "ipython",
    "version": 3
   },
   "file_extension": ".py",
   "mimetype": "text/x-python",
   "name": "python",
   "nbconvert_exporter": "python",
   "pygments_lexer": "ipython3",
   "version": "3.6.5"
  }
 },
 "nbformat": 4,
 "nbformat_minor": 2
}
