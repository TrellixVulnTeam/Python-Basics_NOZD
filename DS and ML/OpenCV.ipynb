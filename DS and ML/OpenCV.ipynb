{
 "cells": [
  {
   "cell_type": "code",
   "execution_count": 1,
   "metadata": {},
   "outputs": [],
   "source": [
    "import cv2"
   ]
  },
  {
   "cell_type": "code",
   "execution_count": 2,
   "metadata": {},
   "outputs": [
    {
     "data": {
      "text/plain": [
       "'3.4.2'"
      ]
     },
     "execution_count": 2,
     "metadata": {},
     "output_type": "execute_result"
    }
   ],
   "source": [
    "cv2.__version__"
   ]
  },
  {
   "cell_type": "code",
   "execution_count": null,
   "metadata": {},
   "outputs": [],
   "source": []
  },
  {
   "cell_type": "code",
   "execution_count": null,
   "metadata": {},
   "outputs": [],
   "source": []
  },
  {
   "cell_type": "code",
   "execution_count": null,
   "metadata": {},
   "outputs": [],
   "source": []
  },
  {
   "cell_type": "code",
   "execution_count": 3,
   "metadata": {},
   "outputs": [
    {
     "data": {
      "text/plain": [
       "array([[166, 166, 166, ..., 189, 189, 189],\n",
       "       [166, 166, 166, ..., 189, 189, 189],\n",
       "       [166, 166, 166, ..., 190, 190, 190],\n",
       "       ...,\n",
       "       [214, 214, 214, ..., 186, 186, 186],\n",
       "       [214, 214, 214, ..., 186, 186, 186],\n",
       "       [214, 214, 214, ..., 186, 186, 186]], dtype=uint8)"
      ]
     },
     "execution_count": 3,
     "metadata": {},
     "output_type": "execute_result"
    }
   ],
   "source": [
    "img=cv2.imread('image.jpeg',cv2.IMREAD_GRAYSCALE) #cv2.IMREAD_COLOR)\n",
    "cv2.circle(img,(120,100),50,(97,78,105),-1) # if there is 1 instead of -1 then whole scircle is filled with color \n",
    "          "
   ]
  },
  {
   "cell_type": "code",
   "execution_count": 4,
   "metadata": {},
   "outputs": [
    {
     "data": {
      "text/plain": [
       "array([[166, 166, 166, ..., 189, 189, 189],\n",
       "       [166, 166, 166, ..., 189, 189, 189],\n",
       "       [166, 166, 166, ..., 190, 190, 190],\n",
       "       ...,\n",
       "       [214, 214, 214, ..., 186, 186, 186],\n",
       "       [214, 214, 214, ..., 186, 186, 186],\n",
       "       [214, 214, 214, ..., 186, 186, 186]], dtype=uint8)"
      ]
     },
     "execution_count": 4,
     "metadata": {},
     "output_type": "execute_result"
    }
   ],
   "source": [
    "cv2.rectangle(img,(20,40),(140,160),(0,255,0),2) # for rectangle third parameter is for color(start,end ,color,thickness)\n"
   ]
  },
  {
   "cell_type": "code",
   "execution_count": null,
   "metadata": {},
   "outputs": [],
   "source": [
    "cv2.line(img,(10,20),(250,20),(255,0,0),5) # for line                \n",
    "cv2.ellipse(img,(100,20),(100,50),25,20,175,255,-1)#((100,20),(100,50),0,0,360,255,4) for complete ellipse \n",
    "cv2.putText(img,'Mr.Bean',(70,90),cv2.FONT_HERSHEY_TRIPLEX,.5,(0,0,255),3)     "
   ]
  },
  {
   "cell_type": "code",
   "execution_count": null,
   "metadata": {},
   "outputs": [],
   "source": [
    "print(img) # print 3 D mtarix of image\n"
   ]
  },
  {
   "cell_type": "code",
   "execution_count": null,
   "metadata": {},
   "outputs": [],
   "source": [
    "img.shape # show height and width and bgr color but in grayscale it is showing none\n",
    "cv2.imshow('image',img) #\n",
    "cv2.waitKey(0)#show image    , if parameter is 0 then memory clean automatically\n",
    "cv2.destroyAllWindows() # it will close the image window otherwise kernal have to be restart"
   ]
  },
  {
   "cell_type": "code",
   "execution_count": null,
   "metadata": {},
   "outputs": [],
   "source": [
    "cam=cv2.VideoCapture(0)\n",
    "while True:\n",
    "    if cam.isOpened:\n",
    "        i,img=cam.read()\n",
    "        cv2.imshow('',img)\n",
    "        "
   ]
  },
  {
   "cell_type": "code",
   "execution_count": null,
   "metadata": {},
   "outputs": [],
   "source": [
    "import cv2\n",
    "import numpy as np\n",
    "import math\n",
    "fd=cv2.CascadeClassifier('haarcascade_frontalface_default.xml')\n",
    "cam=cv2.VideoCapture(0)\n",
    "while True:\n",
    "    ret,img=cam.read()\n",
    "    gray=cv2.cvtColor(img,cv2.IMREAD_GRAYSCALE)\n",
    "    faces=fd.detectMultiScale(gray,1.3,5)  # here 5 is max no to detect people\n",
    "    for(x,y,w,h) in faces:\n",
    "        cv2.rectangle(img,(x,y),(x+w,y+h),(0,0,255),2)\n",
    "        cv2.imshow('Faces',img)\n",
    "    if(cv2.waitkey(1)==ord('q')):\n",
    "        break\n",
    "cam.release()\n",
    "cv2.destroyAllWindows()\n",
    "        "
   ]
  },
  {
   "cell_type": "code",
   "execution_count": null,
   "metadata": {},
   "outputs": [],
   "source": [
    "import cv2\n",
    "from matplotlib import pyplot as plt\n"
   ]
  },
  {
   "cell_type": "code",
   "execution_count": null,
   "metadata": {},
   "outputs": [],
   "source": [
    "img=cv2.imread('flower.jpg',cv2.IMREAD_cOLOR)\n",
    "plt.imshow(img)\n",
    "plt.xticks([])\n",
    "plt.yticks([])\n",
    "plt.show()"
   ]
  },
  {
   "cell_type": "code",
   "execution_count": null,
   "metadata": {},
   "outputs": [],
   "source": [
    "import numpy as np\n",
    "imf=cv2.imread('man.jpg',0)\n",
    "print(imf)\n",
    "row,col=imf.shape\n",
    "print(row,col)\n",
    "m=cv2.getRotationMatrix2D((row//2,col//2),90,1)\n",
    "#m=np.float32([[1,0,40],[5,1,30]])\n",
    "d=cv2.warpAffine(imf,m,(row,col))\n",
    "cv2.imshow('',d)\n",
    "cv2.waitkey(0)\n",
    "cv2.destroyAllWindows()"
   ]
  },
  {
   "cell_type": "code",
   "execution_count": null,
   "metadata": {},
   "outputs": [],
   "source": [
    "import cv2\n",
    "from matplotlib import pyplot as plt\n",
    "img=cv2.imread('man.jpg')\n",
    "r,c,ch=img.shape\n",
    "pst1=np.float32([[50,50],[200,50],[50,200]])\n",
    "pst2.np.float32([[10,80],[200,50],[100,250]])\n",
    "m=cv2.getAffineTransform(pst1,pst2)\n",
    "d=cv2.warpAffine(img,m,(c,r))\n",
    "plt.subplot(121),plt.imshow(img),plt.title('input image')\n",
    "plt.subplot(122),plt.imshow(d),plt.title('output image')"
   ]
  },
  {
   "cell_type": "code",
   "execution_count": null,
   "metadata": {},
   "outputs": [],
   "source": [
    "transform is shifting of object location by x and y coordinate\n",
    "warpAffine "
   ]
  },
  {
   "cell_type": "code",
   "execution_count": null,
   "metadata": {},
   "outputs": [],
   "source": [
    "import cv2\n",
    "img=cv2.imread('man.jpg',cv2.IMREAD_UNCHANGED)\n",
    "print('original dimention',img.shape)\n",
    "rp=40\n",
    "w=int(img.shape[1]*rp/100)\n",
    "h=int(image.shape[0]*rp/100)\n",
    "dim=(w,h)\n",
    "r=cv2.resize(img,dim,interpolation=cv2.INTER_AREA)\n",
    "print('Resisized dimention',r)\n",
    "cv2.imshow('resized',r)\n",
    "cv2.waitkey(0)\n",
    "cv2.destroyAllWindows()"
   ]
  }
 ],
 "metadata": {
  "kernelspec": {
   "display_name": "Python 3",
   "language": "python",
   "name": "python3"
  },
  "language_info": {
   "codemirror_mode": {
    "name": "ipython",
    "version": 3
   },
   "file_extension": ".py",
   "mimetype": "text/x-python",
   "name": "python",
   "nbconvert_exporter": "python",
   "pygments_lexer": "ipython3",
   "version": "3.6.5"
  }
 },
 "nbformat": 4,
 "nbformat_minor": 2
}
