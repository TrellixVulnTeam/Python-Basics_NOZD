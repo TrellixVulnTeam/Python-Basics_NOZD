{
 "cells": [
  {
   "cell_type": "code",
   "execution_count": 1,
   "metadata": {},
   "outputs": [],
   "source": [
    "import re\n",
    "import tweepy \n",
    "from tweepy import OAuthHandler\n",
    "from textblob import TextBlob"
   ]
  },
  {
   "cell_type": "code",
   "execution_count": 4,
   "metadata": {},
   "outputs": [
    {
     "name": "stdout",
     "output_type": "stream",
     "text": [
      "Authenticated\n",
      "positive tweets percentage:27.272727272727273%\n",
      "\n",
      "\n",
      " Positive tweets:\n",
      "@ANI One should ask for recount, i am sure the results will be otherwise..\n",
      "RT @ANI: BJP's Colaba candidate Rahul Narvekar: BJP-Shiv Sena together will win more than 220 seats in #MaharashtraElectionResults2019 http…\n",
      "RT @ANI: “How many days you want restrictions?  It’s already 2 months now. You have to come clear on this and you have to find out other me…\n",
      "RT @ANI: India's ease of doing business ranking improves, jumps 14 places to rank 63. https://t.co/RcOj4Y1Jgk\n"
     ]
    }
   ],
   "source": [
    "class TwitterClient():\n",
    "    def __init__ (self):\n",
    "        consumer_key='cSjBuDXzVUlHSb8DAFBCIspWH'\n",
    "        consumer_secret='fP9o4nsz4bv4newdC2BHZrqi4Kh6heshoAqJgm83Hex6rF8Ppi'\n",
    "        access_token='85755855-Q73G97mK6RsCyfAImZ1snDKtbs3ZEfid7NTyN4ztD'\n",
    "        access_token_secret='8w0WyBPY9AmLgMnn2S3dGYVqKvWp7lPzrWgy5cmaew4fS'\n",
    "        #attempt authentication\n",
    "        try:\n",
    "            #create OAuthHandler object\n",
    "            self.auth=OAuthHandler(consumer_key,consumer_secret)\n",
    "            #secret access token and secret\n",
    "            self.auth.set_access_token(access_token,access_token_secret)\n",
    "            #create tweeepy API object to fetch tweets\n",
    "            self.api=tweepy.API(self.auth)\n",
    "            print('Authenticated')\n",
    "        except:\n",
    "            print(\"error: Authentication Failed\")\n",
    "    def clean_tweet(self,tweet):\n",
    "        return ' '.join(re.sub(\"(@[A-Za-z0-9]+)| ([^0-9A-Za-z \\t])|(\\w+:\\/\\/\\S+)\",\" \",tweet).split())\n",
    "    def get_tweet_sentiment(self,tweet):\n",
    "        analysis=TextBlob(self.clean_tweet(tweet))\n",
    "        #set setntiment\n",
    "        if analysis.sentiment.polarity>0:\n",
    "            return 'positive'\n",
    "        elif analysis.sentiment.polarity==0:\n",
    "            return 'neutral'\n",
    "        else:\n",
    "            return 'negative'\n",
    "    def get_tweets(self,query,count=1000):\n",
    "        '''main functon to fetch \n",
    "        tweets and parse them'''\n",
    "        tweets=[]\n",
    "        try:\n",
    "            #call twitter api to fetch teets\n",
    "            fetched_tweets=self.api.search(q=query,sount=count)\n",
    "            #parsing tweets one by one\n",
    "            for tweet in fetched_tweets:\n",
    "                #empty dict to store reqiured params of a tweet\n",
    "                parsed_tweet={}\n",
    "                #saving text of  tweet\n",
    "                parsed_tweet['text']=tweet.text\n",
    "                #saving sentiment of  tweet\n",
    "                parsed_tweet['sentiment']=self.get_tweet_sentiment(tweet.text)\n",
    "                #appending parsed tweet to tweets list\n",
    "                if tweet.retweet_count>0:\n",
    "                    #if tweet has retweets , ensure that it is appended only once\n",
    "                    if parsed_tweet not in tweets:\n",
    "                        tweets.append(parsed_tweet)\n",
    "                else:\n",
    "                    tweets.append(parsed_tweet)\n",
    "                #return parsed tweet     \n",
    "            return tweets\n",
    "        except tweepy.TweepError as e:\n",
    "            #print error (if any)\n",
    "            print(\"error:\"+str(e))\n",
    "def main():\n",
    "    #creating object of twitterclient class \n",
    "    api=TwitterClient()\n",
    "    #calling function to get tweets\n",
    "    tweets=api.get_tweets(query='@ani',count=2000)\n",
    "    #packing positive tweets from tweets\n",
    "    ptweets=[tweet for tweet in tweets if tweet ['sentiment']=='positive']\n",
    "    #percentage of positive tweets\n",
    "    print(\"positive tweets percentage:{}%\".format(100*len(ptweets)/len(tweets)))\n",
    "    #picking negative tweets from tweets\n",
    "    ntweets =[tweet for tweet in tweets if tweet['sentiment']=='negative']\n",
    "    #percentage of negative tweets \n",
    "    #print (\"negative tweets percentage:()%\".format(100%len(ntweets)/len(tweets)))\n",
    "    #percentage of neutarl tweets \n",
    "    #print (\"neutarl tweets percentage :{}%\\\n",
    "    #\".format(100*len(tweets-ntweets-ptweets)/len(tweet))\n",
    "    #printing first 5 positive tweets\n",
    "    print(\"\\n\\n Positive tweets:\")\n",
    "    for tweet in ptweets[:5]:\n",
    "        print(tweet['text'])\n",
    "     #printing first 5 negative tweets \n",
    "    for tweet in ntweets[:5]:\n",
    "        print(tweet['text'])\n",
    "if __name__==\"__main__\" :\n",
    "    main()\n",
    "    "
   ]
  },
  {
   "cell_type": "code",
   "execution_count": null,
   "metadata": {},
   "outputs": [],
   "source": []
  }
 ],
 "metadata": {
  "kernelspec": {
   "display_name": "Python 3",
   "language": "python",
   "name": "python3"
  },
  "language_info": {
   "codemirror_mode": {
    "name": "ipython",
    "version": 3
   },
   "file_extension": ".py",
   "mimetype": "text/x-python",
   "name": "python",
   "nbconvert_exporter": "python",
   "pygments_lexer": "ipython3",
   "version": "3.7.3"
  }
 },
 "nbformat": 4,
 "nbformat_minor": 2
}
