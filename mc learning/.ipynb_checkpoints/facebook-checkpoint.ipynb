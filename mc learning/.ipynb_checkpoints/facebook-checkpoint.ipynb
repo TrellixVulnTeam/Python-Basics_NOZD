{
 "cells": [
  {
   "cell_type": "code",
   "execution_count": 3,
   "metadata": {},
   "outputs": [
    {
     "name": "stdout",
     "output_type": "stream",
     "text": [
      "https://facebook.com/rvcj media\n",
      "https://facebook.com/rvcj media\n",
      "https://facebook.com/rvcj media\n",
      "https://facebook.com/rvcj media\n",
      "https://facebook.com/rvcj media\n",
      "https://facebook.com/rvcj media\n",
      "0\n",
      "[]\n"
     ]
    }
   ],
   "source": [
    "import http.cookiejar\n",
    "import urllib.request\n",
    "import requests\n",
    "import bs4\n",
    "cj = http.cookiejar.CookieJar()\n",
    "opener = urllib.request.build_opener(urllib.request.\n",
    "                             HTTPCookieProcessor(cj))\n",
    "urllib.request.install_opener(opener)\n",
    "authentication_url = \"https://facebook.com/login.php\"\n",
    "payload = {\n",
    "\n",
    "    'email':\"9891794597\",\n",
    "    'pass':\"kamal\"\n",
    "}\n",
    "data = urllib.parse.urlencode(payload).encode('utf-8')\n",
    "req = urllib.request.Request(authentication_url, data)\n",
    "resp = urllib.request.urlopen(req)\n",
    "contents = resp.read()\n",
    "#print(contents)\n",
    "url = \"https://facebook.com/cbse.abesec.9\"\n",
    "index = 0\n",
    "z = []\n",
    "while(index<6):\n",
    "    data = requests.get(url, cookies=cj)\n",
    "    soup = bs4.BeautifulSoup(data.text, 'html.parser')\n",
    "    print(url)\n",
    "    for i in soup.find_all('a', href=True):\n",
    "        if i['href'][0:22] == \"/cbse.abesec.9/photos\":\n",
    "            #print(\"Hello\")\n",
    "            z.append(i['href'])\n",
    "        if i.text.lower() == \"show more\":\n",
    "            url = \"https://facebook.com\" +i['href']\n",
    "    index = index + 1\n",
    "\n",
    "photos = []\n",
    "num = 0\n",
    "for url in z:\n",
    "    url = \"https://facebook.com\" +url\n",
    "    data = requests.get(url, cookies=cj)\n",
    "    soup = bs4.BeautifulSoup(data.text, 'html.parser')\n",
    "    for i in soup.find_all('a', href=True):\n",
    "        if i.text.lower() ==\"view full size\":\n",
    "            photos.append(i['href'])\n",
    "            urllib.request.urlretrieve(i['href'], str(num) +'.jpg')\n",
    "            num = num+1\n",
    "\n",
    "print(len(photos))\n",
    "print(photos)\n"
   ]
  },
  {
   "cell_type": "code",
   "execution_count": null,
   "metadata": {},
   "outputs": [],
   "source": []
  }
 ],
 "metadata": {
  "kernelspec": {
   "display_name": "Python 3",
   "language": "python",
   "name": "python3"
  },
  "language_info": {
   "codemirror_mode": {
    "name": "ipython",
    "version": 3
   },
   "file_extension": ".py",
   "mimetype": "text/x-python",
   "name": "python",
   "nbconvert_exporter": "python",
   "pygments_lexer": "ipython3",
   "version": "3.7.4"
  }
 },
 "nbformat": 4,
 "nbformat_minor": 2
}
